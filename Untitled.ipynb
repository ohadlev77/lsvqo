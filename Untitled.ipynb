{
 "cells": [
  {
   "cell_type": "markdown",
   "id": "05a202ca",
   "metadata": {},
   "source": [
    "# Quantum Supremacy Demonstration by Employing a Pulse-Based Variational Quantum Algorithm to Tackle a Large Optimization Problem - Draft 6"
   ]
  },
  {
   "cell_type": "markdown",
   "id": "384d8f6e",
   "metadata": {},
   "source": [
    "Ohad Lev\n",
    "\n",
    "July 2024"
   ]
  },
  {
   "cell_type": "markdown",
   "id": "1a274c8c",
   "metadata": {},
   "source": [
    "----------"
   ]
  },
  {
   "cell_type": "markdown",
   "id": "4e32954b",
   "metadata": {},
   "source": [
    "**(1)** Consider the following experiment configuration:\n",
    "\n",
    "* `num_shots = 20,000`.\n",
    "* `cost_function = c_1` (blue curves).\n",
    "* `num_nodes = [32, 64, 128, 256, 512, 1,024, 2,048]` (ordered columns).\n",
    "* `num_blue_nodes = [2, 4, 8, 16, 32]` (ordered rows).\n",
    "* Semirandom partitions (black curves). Semirandom = drawing `num_shots` nodes and choosing the `num_blue_nodes` with the highest degree.\n",
    "\n",
    "The results:"
   ]
  },
  {
   "cell_type": "markdown",
   "id": "dc3bfbbc",
   "metadata": {},
   "source": [
    "<img src=\"draft_7_data/second_run__shots_20000/fig.png\" />"
   ]
  },
  {
   "cell_type": "markdown",
   "id": "849593f8",
   "metadata": {},
   "source": [
    "---------------"
   ]
  },
  {
   "cell_type": "markdown",
   "id": "7edb2bf9",
   "metadata": {},
   "source": [
    "**(2)** Consider the following experiment configuration:\n",
    "\n",
    "* `num_shots = [64, 1,024, 4,096, 16,384, 65,536]`.\n",
    "* `cost_function = c_1` (blue curves).\n",
    "* `num_nodes = [32, 64, 128, 256, 512, 1,024, 2,048]` (ordered columns).\n",
    "* `num_blue_nodes = [2, 4, 8, 16, 32]` (ordered rows).\n",
    "* Semirandom partitions (black curves). Semirandom = drawing `num_shots` nodes and choosing the `num_blue_nodes` with the highest degree.\n",
    "\n",
    "The results:"
   ]
  },
  {
   "cell_type": "markdown",
   "id": "5cc6b0e6",
   "metadata": {},
   "source": [
    "<img src=\"draft_7_data/fig.png\" />"
   ]
  }
 ],
 "metadata": {
  "kernelspec": {
   "display_name": "Python 3 (ipykernel)",
   "language": "python",
   "name": "python3"
  },
  "language_info": {
   "codemirror_mode": {
    "name": "ipython",
    "version": 3
   },
   "file_extension": ".py",
   "mimetype": "text/x-python",
   "name": "python",
   "nbconvert_exporter": "python",
   "pygments_lexer": "ipython3",
   "version": "3.10.12"
  }
 },
 "nbformat": 4,
 "nbformat_minor": 5
}
